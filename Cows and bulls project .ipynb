{
 "cells": [
  {
   "cell_type": "markdown",
   "metadata": {},
   "source": [
    "# PYTHON MINI PROJECT"
   ]
  },
  {
   "cell_type": "markdown",
   "metadata": {},
   "source": [
    "# BULLS AND COWS GAME\n"
   ]
  },
  {
   "cell_type": "markdown",
   "metadata": {},
   "source": [
    "This is a bulls and cow game. this program randomly generates a 4-digit number. The user is asked to guess a 4-digit number. For every digit that the user guessed correctly in the correct place, they have a “cow”. For every digit the user guessed correctly in the wrong place is a “bull.” Every time the user makes a guess, tell them how many “cows” and “bulls” they have. Once the user guesses the correct number, the game is over. Keep track of the number of guesses the user makes throughout the game and tell the user at the end."
   ]
  },
  {
   "cell_type": "markdown",
   "metadata": {},
   "source": [
    "## COWS AND BULLS GAME\n",
    "### JATIN GROVER- 2K18CSUN01105\n",
    "### MAHIKA GOYAL- 2KA8CSUN01112"
   ]
  },
  {
   "cell_type": "code",
   "execution_count": null,
   "metadata": {},
   "outputs": [
    {
     "name": "stdout",
     "output_type": "stream",
     "text": [
      "please enter a four digit number1234\n",
      "bulls:  1\n",
      "cows:  1\n"
     ]
    }
   ],
   "source": [
    "import random\n",
    "\n",
    "number = []\n",
    "attempts = 0\n",
    "\n",
    "def MakeNumber():\n",
    "    for i in range(4):\n",
    "        x=random.randrange(0,9)\n",
    "        number.append(x)\n",
    "    if len(number)>len(set(number)):\n",
    "        number.clear()\n",
    "        MakeNumber()\n",
    "    \n",
    "def PlayGame():\n",
    "    global attempts\n",
    "    if attempts == 0:\n",
    "        MakeNumber()\n",
    "    attempts += 1\n",
    "    cows = 0\n",
    "    bulls = 0\n",
    "#     print(number)\n",
    "    choice = input(\"please enter a four digit number\")\n",
    "    guess=[]\n",
    "    guess1=[]\n",
    "    for i in range(4):\n",
    "        guess.append(int(choice[i]))\n",
    "    for i in range(4):\n",
    "        if guess[i] == number[i] :\n",
    "           cows += 1\n",
    "        elif guess[i] != number[i] and guess[i] in number :\n",
    "            bulls += 1\n",
    "        else:\n",
    "            continue            \n",
    "    print(\"bulls: \",bulls)\n",
    "    print(\"cows: \",cows)\n",
    "    if (cows == 4):\n",
    "        print(\"YOU WON AFTER \",attempts,\" ATTEMPTS!!!\")\n",
    "    else:\n",
    "         PlayGame()\n",
    " \n",
    "\n",
    "PlayGame()"
   ]
  },
  {
   "cell_type": "code",
   "execution_count": null,
   "metadata": {},
   "outputs": [],
   "source": [
    "\n"
   ]
  },
  {
   "cell_type": "code",
   "execution_count": null,
   "metadata": {},
   "outputs": [],
   "source": []
  }
 ],
 "metadata": {
  "kernelspec": {
   "display_name": "Python 3",
   "language": "python",
   "name": "python3"
  },
  "language_info": {
   "codemirror_mode": {
    "name": "ipython",
    "version": 3
   },
   "file_extension": ".py",
   "mimetype": "text/x-python",
   "name": "python",
   "nbconvert_exporter": "python",
   "pygments_lexer": "ipython3",
   "version": "3.7.4"
  }
 },
 "nbformat": 4,
 "nbformat_minor": 4
}

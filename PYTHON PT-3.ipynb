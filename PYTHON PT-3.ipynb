{
 "cells": [
  {
   "cell_type": "markdown",
   "metadata": {},
   "source": [
    "## THEORETICAL QUESTIONS"
   ]
  },
  {
   "cell_type": "markdown",
   "metadata": {},
   "source": [
    "1. What is the syntax to call a constructor of a base class from child class.                                                                                                "
   ]
  },
  {
   "cell_type": "markdown",
   "metadata": {},
   "source": [
    "   Ans. super() command is used to call a constructor of a base class from child class.\n",
    "   \n",
    "   "
   ]
  },
  {
   "cell_type": "code",
   "execution_count": 28,
   "metadata": {},
   "outputs": [],
   "source": [
    "#2. How is a class made as inherited class (syntax of child class)\n",
    "#Ans.\n",
    "#     class Mother:\n",
    "#        pass \n",
    "#     class Child(Mother):\n",
    "#        pass"
   ]
  },
  {
   "cell_type": "code",
   "execution_count": 27,
   "metadata": {},
   "outputs": [
    {
     "name": "stdout",
     "output_type": "stream",
     "text": [
      "{1: {'name': 'mahika', 'course': 'python'}, 2: {'name': 'jahnavi', 'course': 'maths'}}\n"
     ]
    }
   ],
   "source": [
    "#3. Print an element of a nested dictionary.\n",
    "subject ={1:{'name':'mukul', 'course':'maths'},\n",
    "              2:{'name':'', 'course':'maths'}}\n",
    "print(subject)"
   ]
  },
  {
   "cell_type": "markdown",
   "metadata": {},
   "source": [
    "## PRACTICAL QUESTIONS"
   ]
  },
  {
   "cell_type": "code",
   "execution_count": 14,
   "metadata": {},
   "outputs": [
    {
     "name": "stdout",
     "output_type": "stream",
     "text": [
      "Please enter your sentence here: my name is mahika\n",
      "is mahika my name\n"
     ]
    }
   ],
   "source": [
    "#Q1. Write a program that accepts a sequence of whitespace separated words as input\n",
    "#and prints the words after removing all duplicate words.\n",
    "line1 = input(\"Please enter your sentence here: \")\n",
    "line2 = line1.split(' ')\n",
    "list1 = []\n",
    "for i in line2:\n",
    "    if i not in list1:\n",
    "        list1.append(i)\n",
    "    else:\n",
    "        continue\n",
    "list1.sort()\n",
    "print((' ').join(list1))"
   ]
  },
  {
   "cell_type": "code",
   "execution_count": 17,
   "metadata": {},
   "outputs": [
    {
     "name": "stdout",
     "output_type": "stream",
     "text": [
      "12 35 88 120 155\n"
     ]
    }
   ],
   "source": [
    "#Q2. By using list comprehension, please write a program to print the list after removing\n",
    "#the value 24 in [12,24,35,24,88,120,155]. \n",
    "var1 = [12,24,35,24,88,120,155]  \n",
    "var1 = [ num for num in list1 if num != 24] \n",
    "print(*list1)"
   ]
  },
  {
   "cell_type": "code",
   "execution_count": null,
   "metadata": {},
   "outputs": [],
   "source": []
  },
  {
   "cell_type": "code",
   "execution_count": null,
   "metadata": {},
   "outputs": [],
   "source": []
  }
 ],
 "metadata": {
  "kernelspec": {
   "display_name": "Python 3",
   "language": "python",
   "name": "python3"
  },
  "language_info": {
   "codemirror_mode": {
    "name": "ipython",
    "version": 3
   },
   "file_extension": ".py",
   "mimetype": "text/x-python",
   "name": "python",
   "nbconvert_exporter": "python",
   "pygments_lexer": "ipython3",
   "version": "3.7.4"
  }
 },
 "nbformat": 4,
 "nbformat_minor": 2
}

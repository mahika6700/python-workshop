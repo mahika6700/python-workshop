{
 "cells": [
  {
   "cell_type": "markdown",
   "metadata": {},
   "source": [
    "# PYTHON MINI PROJECT"
   ]
  },
  {
   "cell_type": "markdown",
   "metadata": {},
   "source": [
    "## COWS AND BULLS GAME\n",
    "### JATIN GROVER- 2K18CSUN01105\n",
    "### MAHIKA GOYSL- 2KA8CSUN01112"
   ]
  },
  {
   "cell_type": "code",
   "execution_count": null,
   "metadata": {},
   "outputs": [
    {
     "name": "stdout",
     "output_type": "stream",
     "text": [
      "please enter a four digit number4311\n",
      "bulls:  0\n",
      "cows:  0\n",
      "please enter a four digit number2311\n",
      "bulls:  1\n",
      "cows:  0\n",
      "please enter a four digit number1111\n",
      "bulls:  0\n",
      "cows:  0\n",
      "please enter a four digit number4567\n",
      "bulls:  2\n",
      "cows:  0\n",
      "please enter a four digit number7263\n",
      "bulls:  2\n",
      "cows:  0\n",
      "please enter a four digit number3456\n",
      "bulls:  1\n",
      "cows:  0\n",
      "please enter a four digit number3457\n",
      "bulls:  2\n",
      "cows:  0\n",
      "please enter a four digit number1123\n",
      "bulls:  1\n",
      "cows:  0\n",
      "please enter a four digit number1234\n",
      "bulls:  1\n",
      "cows:  0\n",
      "please enter a four digit number5432\n",
      "bulls:  0\n",
      "cows:  2\n",
      "please enter a four digit number5678\n",
      "bulls:  1\n",
      "cows:  2\n",
      "please enter a four digit number5679\n",
      "bulls:  0\n",
      "cows:  2\n",
      "please enter a four digit number3256\n",
      "bulls:  2\n",
      "cows:  0\n",
      "please enter a four digit number7485\n",
      "bulls:  3\n",
      "cows:  0\n",
      "please enter a four digit number5463\n",
      "bulls:  0\n",
      "cows:  1\n",
      "please enter a four digit number2345\n",
      "bulls:  2\n",
      "cows:  0\n",
      "please enter a four digit number3456\n",
      "bulls:  1\n",
      "cows:  0\n",
      "please enter a four digit number3457\n",
      "bulls:  2\n",
      "cows:  0\n",
      "please enter a four digit number3458\n",
      "bulls:  2\n",
      "cows:  0\n",
      "please enter a four digit number1234\n",
      "bulls:  1\n",
      "cows:  0\n",
      "please enter a four digit number1234\n",
      "bulls:  1\n",
      "cows:  0\n",
      "please enter a four digit number4321\n",
      "bulls:  1\n",
      "cows:  0\n"
     ]
    }
   ],
   "source": [
    "import random\n",
    "\n",
    "number = []\n",
    "attempts = 0\n",
    "\n",
    "def MakeNumber():\n",
    "    for i in range(4):\n",
    "        x=random.randrange(0,9)\n",
    "        number.append(x)\n",
    "    if len(number)>len(set(number)):\n",
    "        number.clear()\n",
    "        MakeNumber()\n",
    "    \n",
    "def PlayGame():\n",
    "    global attempts\n",
    "    if attempts == 0:\n",
    "        MakeNumber()\n",
    "    attempts += 1\n",
    "    cows = 0\n",
    "    bulls = 0\n",
    "#     print(number)\n",
    "    choice = input(\"please enter a four digit number\")\n",
    "    guess=[]\n",
    "    guess1=[]\n",
    "    for i in range(4):\n",
    "        guess.append(int(choice[i]))\n",
    "    for i in range(4):\n",
    "        if guess[i] == number[i] :\n",
    "           cows += 1\n",
    "        elif guess[i] != number[i] and guess[i] in number :\n",
    "            bulls += 1\n",
    "        else:\n",
    "            continue            \n",
    "    print(\"bulls: \",bulls)\n",
    "    print(\"cows: \",cows)\n",
    "    if (cows == 4):\n",
    "        print(\"YOU WON AFTER \",attempts,\" ATTEMPTS!!!\")\n",
    "    else:\n",
    "         PlayGame()\n",
    " \n",
    "\n",
    "PlayGame()"
   ]
  },
  {
   "cell_type": "code",
   "execution_count": null,
   "metadata": {},
   "outputs": [],
   "source": [
    "\n"
   ]
  },
  {
   "cell_type": "code",
   "execution_count": null,
   "metadata": {},
   "outputs": [],
   "source": []
  }
 ],
 "metadata": {
  "kernelspec": {
   "display_name": "Python 3",
   "language": "python",
   "name": "python3"
  },
  "language_info": {
   "codemirror_mode": {
    "name": "ipython",
    "version": 3
   },
   "file_extension": ".py",
   "mimetype": "text/x-python",
   "name": "python",
   "nbconvert_exporter": "python",
   "pygments_lexer": "ipython3",
   "version": "3.7.4"
  }
 },
 "nbformat": 4,
 "nbformat_minor": 4
}

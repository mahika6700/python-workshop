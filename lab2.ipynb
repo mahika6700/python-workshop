{
 "cells": [
  {
   "cell_type": "code",
   "execution_count": 1,
   "metadata": {},
   "outputs": [
    {
     "name": "stdout",
     "output_type": "stream",
     "text": [
      "enter a number:4\n",
      "even\n"
     ]
    }
   ],
   "source": [
    "\n",
    "x= int(input(\"enter a number:\"))\n",
    "if (x%2==0) :\n",
    "    print(\"even\")\n",
    "else :\n",
    "    print(\"odd\")"
   ]
  },
  {
   "cell_type": "code",
   "execution_count": 2,
   "metadata": {},
   "outputs": [
    {
     "name": "stdout",
     "output_type": "stream",
     "text": [
      "enter a year:2014\n",
      "not a leap year\n"
     ]
    }
   ],
   "source": [
    "var= int(input(\"enter a year:\"))\n",
    "if var%4==0 :\n",
    "    print(\"it is a leap year\")\n",
    "else :\n",
    "    print(\"not a leap year\")"
   ]
  },
  {
   "cell_type": "code",
   "execution_count": 16,
   "metadata": {},
   "outputs": [
    {
     "name": "stdout",
     "output_type": "stream",
     "text": [
      "enter a letter:e\n",
      "consonant\n"
     ]
    }
   ],
   "source": [
    "var= (input(\"enter a letter:\"))\n",
    "if (var== 'a,e,i,o,u,A,E,I,O,U') :\n",
    "    print(\"vowel\")\n",
    "else :\n",
    "    print(   'consonant')"
   ]
  },
  {
   "cell_type": "code",
   "execution_count": 18,
   "metadata": {},
   "outputs": [
    {
     "name": "stdout",
     "output_type": "stream",
     "text": [
      "enter the first number:5\n",
      "enetr the second number:8\n",
      "5 is smaller\n"
     ]
    }
   ],
   "source": [
    "x= int(input(\"enter the first number:\"))\n",
    "y= int(input(\"enetr the second number:\"))\n",
    "if x<y :\n",
    "    print(x, \"is smaller\")\n",
    "else:\n",
    "    print(y, \"is smaller\")"
   ]
  },
  {
   "cell_type": "code",
   "execution_count": 22,
   "metadata": {},
   "outputs": [
    {
     "name": "stdout",
     "output_type": "stream",
     "text": [
      "enter a number:6\n",
      "factorial is  \n",
      "720\n"
     ]
    }
   ],
   "source": [
    "x= int(input(\"enter a number:\"))\n",
    "fact= 1\n",
    "for i in range(1, x+1):\n",
    "   fact= fact*i\n",
    "print(\"factorial is\", \" \")\n",
    "print(fact)"
   ]
  },
  {
   "cell_type": "code",
   "execution_count": null,
   "metadata": {},
   "outputs": [],
   "source": []
  }
 ],
 "metadata": {
  "kernelspec": {
   "display_name": "Python 3",
   "language": "python",
   "name": "python3"
  },
  "language_info": {
   "codemirror_mode": {
    "name": "ipython",
    "version": 3
   },
   "file_extension": ".py",
   "mimetype": "text/x-python",
   "name": "python",
   "nbconvert_exporter": "python",
   "pygments_lexer": "ipython3",
   "version": "3.7.4"
  }
 },
 "nbformat": 4,
 "nbformat_minor": 2
}

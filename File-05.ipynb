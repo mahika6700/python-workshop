{
 "cells": [
  {
   "cell_type": "code",
   "execution_count": 2,
   "metadata": {},
   "outputs": [
    {
     "name": "stdout",
     "output_type": "stream",
     "text": [
      "['m', 'a', 'h', 'i']\n",
      "('m', 'a', 'h', 'i')\n"
     ]
    }
   ],
   "source": [
    "#1. Write a Python program to sum all the items in a list. \n",
    "list= [\"m\",\"a\",\"h\",\"i\"]\n",
    "print(list)\n",
    "tup = tuple(list)\n",
    "print(tup)"
   ]
  },
  {
   "cell_type": "code",
   "execution_count": 9,
   "metadata": {},
   "outputs": [
    {
     "name": "stdout",
     "output_type": "stream",
     "text": [
      "(5, 4)\n",
      "(2, 4, 3, 5, 4, 6)\n",
      "(6, 7, 8, 6, 1)\n",
      "(2, 4, 3, 5, 4, 6, 7, 8, 6, 1)\n",
      "(3, 5, 4, 6)\n",
      "('H', 'E', 'L', 'L', 'O', ' ', 'W', 'O', 'R', 'L', 'D')\n",
      "('L', 'O', 'W', 'R')\n",
      "('H', 'O', 'R')\n",
      "('L', ' ')\n"
     ]
    }
   ],
   "source": [
    "# 2. Write a Python program to get the largest number from a list\n",
    "tuplex = (2, 4, 3, 5, 4, 6, 7, 8, 6, 1)\n",
    "slice = tuplex[3:5]\n",
    "print(slice)\n",
    "slice = tuplex[:6]\n",
    "print(slice)\n",
    "slice = tuplex[5:]\n",
    "print(slice)\n",
    "slice = tuplex[:]\n",
    "print(slice)\n",
    "slice = tuplex[-8:-4]\n",
    "print(slice)\n",
    "tuplex = tuple(\"HELLO WORLD\")\n",
    "print(tuplex)\n",
    "slice = tuplex[2:9:2]\n",
    "print(slice)\n",
    "slice = tuplex[::4]\n",
    "print(slice)\n",
    "slice = tuplex[9:2:-4]\n",
    "print(slice)"
   ]
  },
  {
   "cell_type": "code",
   "execution_count": 10,
   "metadata": {},
   "outputs": [
    {
     "name": "stdout",
     "output_type": "stream",
     "text": [
      "('i', 'n', 'd', 'e', 'x', ' ', 't', 'u', 'p', 'l', 'e')\n",
      "8\n",
      "8\n",
      "3\n"
     ]
    }
   ],
   "source": [
    "#4. Write a Python program to get the smallest number from a list. \n",
    "tuplex = tuple(\"index tuple\")\n",
    "print(tuplex)\n",
    "index = tuplex.index(\"p\")\n",
    "print(index)\n",
    "index = tuplex.index(\"p\", 5)\n",
    "print(index)\n",
    "index = tuplex.index(\"e\", 3, 6)\n",
    "print(index)\n",
    "index = tuplex.index(\"x\")"
   ]
  },
  {
   "cell_type": "code",
   "execution_count": 11,
   "metadata": {},
   "outputs": [
    {
     "name": "stdout",
     "output_type": "stream",
     "text": [
      "('m', 'a', 'h', 'i', 'k', 'a')\n",
      "6\n"
     ]
    }
   ],
   "source": [
    "#5. Write a Python program to count the number of strings where the string length is 2 or more and the\n",
    "#first and last character are same from a given list of strings \n",
    "tuplex = tuple(\"mahika\")\n",
    "print(tuplex)\n",
    "print(len(tuplex))"
   ]
  },
  {
   "cell_type": "code",
   "execution_count": 12,
   "metadata": {},
   "outputs": [
    {
     "name": "stdout",
     "output_type": "stream",
     "text": [
      "('a', 'k', 'i', 'h', 'a', 'm')\n"
     ]
    }
   ],
   "source": [
    "#6. Write a program to reverse a tuple.\n",
    "x = (\"mahika\")\n",
    "y = reversed(x)\n",
    "print(tuple(y))"
   ]
  },
  {
   "cell_type": "code",
   "execution_count": 13,
   "metadata": {},
   "outputs": [
    {
     "name": "stdout",
     "output_type": "stream",
     "text": [
      "[2, 4, 10, 20, 5]\n"
     ]
    }
   ],
   "source": [
    "#7. Write a program to remove duplicates from a list.\n",
    "def Remove(duplicate): \n",
    "    final_list = [] \n",
    "    for num in duplicate: \n",
    "        if num not in final_list: \n",
    "            final_list.append(num) \n",
    "    return final_list \n",
    "      \n",
    "duplicate = [2, 4, 10, 20, 5, 2, 20, 4] \n",
    "print(Remove(duplicate))"
   ]
  },
  {
   "cell_type": "code",
   "execution_count": 15,
   "metadata": {},
   "outputs": [
    {
     "name": "stdout",
     "output_type": "stream",
     "text": [
      "Empty List\n"
     ]
    }
   ],
   "source": [
    "#8. Write a program to check whether a list is empty or not.\n",
    "\n",
    "def Enquiry(lis1): \n",
    "    if len(lis1) == 0: \n",
    "        return 0\n",
    "    else: \n",
    "        return 1\n",
    "          \n",
    "lis1 = [] \n",
    "if Enquiry(lis1): \n",
    "    print (\"The list is not empty\") \n",
    "else: \n",
    "    print(\"Empty List\")"
   ]
  },
  {
   "cell_type": "code",
   "execution_count": null,
   "metadata": {},
   "outputs": [],
   "source": []
  }
 ],
 "metadata": {
  "kernelspec": {
   "display_name": "Python 3",
   "language": "python",
   "name": "python3"
  },
  "language_info": {
   "codemirror_mode": {
    "name": "ipython",
    "version": 3
   },
   "file_extension": ".py",
   "mimetype": "text/x-python",
   "name": "python",
   "nbconvert_exporter": "python",
   "pygments_lexer": "ipython3",
   "version": "3.7.4"
  }
 },
 "nbformat": 4,
 "nbformat_minor": 2
}
